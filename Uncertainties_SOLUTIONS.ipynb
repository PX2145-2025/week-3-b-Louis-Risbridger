{
  "cells": [
    {
      "cell_type": "markdown",
      "metadata": {
        "id": "hHdzSOuCBX88"
      },
      "source": [
        "# Feedback from previous weeks and other and hints\n",
        "\n",
        "1. Be careful about your environment remembering variables. Make sure your code works in a new _clean_ environment. In Colab: `Runtime`->`restart Runtime`, in Anaconda's Jupyter: `Kernel`->`Restart`.\n",
        "2. Graphs without labels (or units when appropriate) are not worth any point.\n",
        "3. Do put in sufficient explanatory comments in your code.\n",
        "4. Functions are very important. Do look up the video on the Safari O'Reilly ressource if you are still not clear on them !\n",
        "\n",
        "For this week you can use these imports at the start of your programs:"
      ]
    },
    {
      "cell_type": "code",
      "execution_count": null,
      "metadata": {
        "id": "yJ38KjZBBX9B"
      },
      "outputs": [],
      "source": [
        "import numpy as np\n",
        "import matplotlib.pyplot as plt"
      ]
    },
    {
      "cell_type": "markdown",
      "metadata": {
        "id": "6NLaaxXwBX9F"
      },
      "source": [
        "We will use a new module `uncertainties`, which is **not** standard in the colab environment. You will have to first run:"
      ]
    },
    {
      "cell_type": "code",
      "execution_count": null,
      "metadata": {
        "id": "6yAOX3dxBX9H"
      },
      "outputs": [],
      "source": [
        "! pip install -q uncertainties"
      ]
    },
    {
      "cell_type": "markdown",
      "metadata": {
        "id": "DXSRl92ZBX9K"
      },
      "source": [
        "To install the module before you can import it:"
      ]
    },
    {
      "cell_type": "code",
      "execution_count": null,
      "metadata": {
        "id": "wXMF4AN3BX9L"
      },
      "outputs": [],
      "source": [
        "import uncertainties as uc\n",
        "import uncertainties.umath as um # for maths functions"
      ]
    },
    {
      "cell_type": "markdown",
      "metadata": {
        "id": "azi4R2yyBX9N"
      },
      "source": [
        "# Introduction\n",
        "In the practical classes PX2133/PX2233 and PX2338 (Obs tech), as well as your year 3/4 project, a lot of emphasis is placed on the determination and mathematical handling of errors.\n",
        "The uncertainties module allows us to deal very easily with [error propagation](https://en.wikipedia.org/wiki/Propagation_of_uncertainty). For this sheet you should remind yourself about error bars in measurements and about propagation of uncertainties. Take an example from your lab handbook:\n",
        "\n",
        "**Example 1**: If the length of a rectangle is $1.24\\pm0.02 m$ and its breadth is $0.61\\pm0.01 m$, what is its area and the error in the area? The following code snippet solves this problem in a few lines."
      ]
    },
    {
      "cell_type": "code",
      "execution_count": null,
      "metadata": {
        "id": "Zjf91DeKBX9P",
        "outputId": "ea76a62a-6b0e-4970-aeca-c54586ea2c67"
      },
      "outputs": [
        {
          "name": "stdout",
          "output_type": "stream",
          "text": [
            "Area is: 0.756+/-0.017 m^2\n"
          ]
        }
      ],
      "source": [
        "L = uc.ufloat(1.24, 0.02)\n",
        "W = uc.ufloat(0.61, 0.01)\n",
        "print ('Area is:', L*W, 'm^2') # Do remember to add the units when printing!"
      ]
    },
    {
      "cell_type": "markdown",
      "metadata": {
        "id": "E74Ig2-KBX9S"
      },
      "source": [
        "**Note**: For the area itself, it's fairly straightforward:"
      ]
    },
    {
      "cell_type": "code",
      "execution_count": null,
      "metadata": {
        "id": "jG7R4fV3BX9U",
        "outputId": "fe75f0c4-6ee5-4297-f2d1-ca128811cfb7"
      },
      "outputs": [
        {
          "data": {
            "text/plain": [
              "0.7564"
            ]
          },
          "execution_count": 5,
          "metadata": {},
          "output_type": "execute_result"
        }
      ],
      "source": [
        "1.24*0.61"
      ]
    },
    {
      "cell_type": "markdown",
      "metadata": {
        "id": "xW2NaQ_ABX9X"
      },
      "source": [
        "However, for the error bar on this number:"
      ]
    },
    {
      "cell_type": "code",
      "execution_count": null,
      "metadata": {
        "id": "6kpfnH6HBX9a",
        "outputId": "9b26f64b-40b4-4dc7-acec-f0e6557c6eb0"
      },
      "outputs": [
        {
          "data": {
            "text/plain": [
              "0.0002"
            ]
          },
          "execution_count": 6,
          "metadata": {},
          "output_type": "execute_result"
        }
      ],
      "source": [
        "0.02*0.01"
      ]
    },
    {
      "cell_type": "markdown",
      "metadata": {
        "id": "vYW8XBOfBX9b"
      },
      "source": [
        "does not work. Instead, the [error progation formula](https://en.wikipedia.org/wiki/Propagation_of_uncertainty#Example_formulae) gives:"
      ]
    },
    {
      "cell_type": "code",
      "execution_count": null,
      "metadata": {
        "id": "Fy_gRPo4BX9c",
        "outputId": "66fa996f-4e4d-43c7-9e97-aed596d33194"
      },
      "outputs": [
        {
          "data": {
            "text/plain": [
              "0.01739540169125163"
            ]
          },
          "execution_count": 7,
          "metadata": {},
          "output_type": "execute_result"
        }
      ],
      "source": [
        "np.abs(1.24*0.61)*np.sqrt((0.02/1.24)**2+(0.01/0.61)**2)"
      ]
    },
    {
      "cell_type": "markdown",
      "metadata": {
        "id": "89FuDRy-BX9c"
      },
      "source": [
        "So the area is $0.756\\pm0.017 m^2$. `uncertainties` obviously saves a lot of work, even for such a simple case. You can also take a look at the web site uncertainties hosted at https://pythonhosted.org/uncertainties/user_guide.html. In particular, [this section](https://pythonhosted.org/uncertainties/user_guide.html#access-to-the-uncertainty-and-to-the-nominal-value) shows some of the properties of a `ufloat` you can access directly.\n",
        "\n",
        "**Example 2**: A reference object is $10.0\\pm0.0001 m$ long, and makes a viewing angle of $0.62\\pm0.02 rad$. How far is it?"
      ]
    },
    {
      "cell_type": "code",
      "execution_count": null,
      "metadata": {
        "id": "qSPFRAzCBX9d",
        "outputId": "2883d00c-43a7-4755-eb23-087b28ac20b9"
      },
      "outputs": [
        {
          "name": "stdout",
          "output_type": "stream",
          "text": [
            "Distance is: 15.609024890896208 m, with an error of: 0.537283338762715\n"
          ]
        }
      ],
      "source": [
        "L = uc.ufloat(10.0, 0.0001)\n",
        "theta = uc.ufloat(0.62,0.02)\n",
        "\n",
        "Distance = (L/2)/um.tan(theta/2)\n",
        "\n",
        "print ('Distance is:', Distance.nominal_value, 'm, with an error of:', Distance.std_dev)"
      ]
    },
    {
      "cell_type": "markdown",
      "metadata": {
        "id": "jjwfVP3YBX9e"
      },
      "source": [
        "Note the need to use \"umath\" functions (like `um.tan()` instead of `np.tan()`), and how to get the nominal value and the standard deviation of the uncertainties objects. To get nicer looking output, such as controlling the number of significant digits printed, you can use the information about formatting at https://docs.python.org/3/tutorial/inputoutput.html. In the exercises below you need to print the values to the screen. (Don’t forget units.)"
      ]
    },
    {
      "cell_type": "markdown",
      "metadata": {
        "id": "kGwBcqhCBX9f"
      },
      "source": [
        "# Exercises\n",
        "This must be marked before you leave the lab. Mark weighting is in brackets.\n",
        "**Save your work to GitHub after having run all cells with `Runtime` -> `Restart and run all`. And do not change the notebook's filename.** Do add comments to your code, you'll lose points if your code is hard to understand. Graphs without labels (or units when appropriate) are not worth any point.\n",
        "\n",
        "## Exercise 0\n",
        "[0] With some approximations, we have measured the mass of the following black-holes:\n",
        "```\n",
        "\"35.6+/-3.9\",\"30.6+/-3.7\",\"63.1+/-3.2\",\"23.2+/-9.8\",\"13.6+/-4.5\",\"35.7+/-6.8\",\"13.7+/-6.0\",\"7.7+/-2.4\",\"20.5+/-4.0\"\n",
        "```\n",
        "Compute for each (with error-bars) their lifetime due to Hawking radiation:\n",
        "$$\n",
        "t = \\left(\\frac{M}{M_{\\odot}}\\right)^3\\,\\times\\,2.097\\,\\times\\,10^{67} yr\n",
        "$$\n",
        "\n",
        "(this exercise is for demonstration purposes and won't be marked)"
      ]
    },
    {
      "cell_type": "code",
      "execution_count": null,
      "metadata": {
        "id": "tmQ1PedzBX9g"
      },
      "outputs": [],
      "source": []
    },
    {
      "cell_type": "markdown",
      "metadata": {
        "id": "vEtTk9f1BX9h"
      },
      "source": [
        "## Exercise 1\n",
        "[2] An object is measured to travel a distance $x = 5.1 \\pm 0.4 m$ during a time of $t = 0.4 \\pm 0.1 s$. What is the average velocity and the error in the average velocity?"
      ]
    },
    {
      "cell_type": "code",
      "execution_count": 9,
      "metadata": {
        "colab": {
          "base_uri": "https://localhost:8080/"
        },
        "id": "uwmEO1V3BX9i",
        "outputId": "15881e4f-4dbc-412c-f307-941c7b360985"
      },
      "outputs": [
        {
          "output_type": "stream",
          "name": "stdout",
          "text": [
            "Average Velocity of the object is 12.750 ms⁻¹ which has an error of ± 3.341 ms⁻¹\n"
          ]
        }
      ],
      "source": [
        "import uncertainties as uc\n",
        "\n",
        "x = uc.ufloat(5.1, 0.4)\n",
        "t = uc.ufloat(0.4,0.1)\n",
        "\n",
        "vel = x/t\n",
        "\n",
        "print(f'Average Velocity of the object is {vel.nominal_value:.3f} ms⁻¹ which has an error of ± {vel.std_dev:.3f} ms⁻¹')"
      ]
    },
    {
      "cell_type": "markdown",
      "metadata": {
        "id": "gRnVxlWJBX9i"
      },
      "source": [
        "## Exercise 2\n",
        "[2] An enterprising cow attempts to jump over the moon by jumping vertically into the air with initial speed $v_0=4.0\\pm0.2 m/s$. After a time $t=0.60\\pm0.06s$, the height of the cow is $h = v_0t-\\frac{1}{2}g t^2 = 0.636 m$. What is the uncertainty in $h$? Take $g$ as exactly $9.81 ms^{-2}$."
      ]
    },
    {
      "cell_type": "code",
      "execution_count": 26,
      "metadata": {
        "colab": {
          "base_uri": "https://localhost:8080/"
        },
        "id": "5mo8EAH-BX9k",
        "outputId": "995d700e-a7d6-4258-f04d-e2a90009d8fc"
      },
      "outputs": [
        {
          "output_type": "stream",
          "name": "stdout",
          "text": [
            "The uncertainty in h is 0.165 m, The value of the height is 0.634\n"
          ]
        }
      ],
      "source": [
        "t = uc.ufloat(0.60, 0.06)\n",
        "v0 = uc.ufloat(4.0, 0.2)\n",
        "g = 9.81\n",
        "\n",
        "h = v0*t - 0.5*g*t**2\n",
        "\n",
        "print(f'The uncertainty in h is {h.std_dev:.3f} m, The value of the height is {h.nominal_value:.3f}')"
      ]
    },
    {
      "cell_type": "markdown",
      "metadata": {
        "id": "52HGsGHkBX9l"
      },
      "source": [
        "## Exercise 3\n",
        "[2] In an optics experiment the object distance $u$ is measured to be 20cm and the image distance $v$ is 10cm, both to an accuracy of 0.5cm. Find the focal length $f$ of the lens using the formula:\n",
        "\n",
        "$$ \\frac{1}{u}+\\frac{1}{v}=\\frac{1}{f}$$"
      ]
    },
    {
      "cell_type": "code",
      "execution_count": 25,
      "metadata": {
        "colab": {
          "base_uri": "https://localhost:8080/"
        },
        "id": "qWUFH4OJBX9m",
        "outputId": "aba5818d-9d3a-404a-c848-5bdbf162af04"
      },
      "outputs": [
        {
          "output_type": "stream",
          "name": "stdout",
          "text": [
            "The focal length of the lens is 6.667 cm with an error of 0.229\n"
          ]
        }
      ],
      "source": [
        "u = uc.ufloat(20, 0.5)\n",
        "v = uc.ufloat(10, 0.5)\n",
        "\n",
        "f = 1/((1/u)+(1/v))\n",
        "\n",
        "print(f'The focal length of the lens is {f.nominal_value:.3f} cm with an error of {f.std_dev:.3f}')"
      ]
    },
    {
      "cell_type": "markdown",
      "metadata": {
        "id": "ff48HUDrBX9n"
      },
      "source": [
        "## Exercise 4\n",
        "[2] Two students each measure the refractive index of water. Jack measures a value of $1.33 \\pm 0.03$ while Jill measures $1.28 \\pm 0.02$. Are these values in agreement? *You do have to think a bit about this one...*\n",
        "\n",
        "### I think the answers are in agreement:\n",
        "As there is an overlap in answers at the value 1.30 within their error bars. I would say agreement however you would need more measurements to be more sure of the actual value"
      ]
    },
    {
      "cell_type": "code",
      "execution_count": null,
      "metadata": {
        "id": "23zrdV9oBX9o"
      },
      "outputs": [],
      "source": [
        "#My answer is in the text box above"
      ]
    },
    {
      "cell_type": "markdown",
      "metadata": {
        "id": "epaabCO3BX9p"
      },
      "source": [
        "## Exercise 5\n",
        "[2] The damped resonance frequency $\\omega_{res}$ of an oscillating system is related to the (un-damped) natural angular frequency $\\omega_0$ and the damping coefficient $\\alpha$ by:\n",
        "\n",
        "$$\\omega_{res} = \\sqrt{ \\omega_0^2 - 2\\alpha^2}$$\n",
        "\n",
        "Find $f_0$ if the measured resonance frequency $f_{res}$ is $23.2\\pm0.1 Hz$ and the measured damping coefficient is $19.5\\pm0.5s^{-1}$.\n"
      ]
    },
    {
      "cell_type": "code",
      "execution_count": 27,
      "metadata": {
        "colab": {
          "base_uri": "https://localhost:8080/"
        },
        "id": "myH5guGmBX9q",
        "outputId": "ea5b4d52-d63a-4c72-b173-bc3f378529b4"
      },
      "outputs": [
        {
          "output_type": "stream",
          "name": "stdout",
          "text": [
            "f0 is 23.612Hz with an error of 0.100Hz\n"
          ]
        }
      ],
      "source": [
        "import numpy as np\n",
        "import uncertainties.umath as um\n",
        "fRes = uc.ufloat(23.2, 0.1)\n",
        "a = uc.ufloat(19.5, 0.5)\n",
        "\n",
        "wRes = 2 * np.pi * fRes\n",
        "\n",
        "w0 = um.sqrt((wRes**2) + 2*a**2)\n",
        "\n",
        "f0 = w0/(2*np.pi)\n",
        "\n",
        "print(f'f0 is {f0.nominal_value:.3f}Hz with an error of {f0.std_dev:.3f}Hz')"
      ]
    },
    {
      "cell_type": "markdown",
      "metadata": {
        "id": "zOipXz-4BX9q"
      },
      "source": [
        "## Exercise 6\n",
        "[2] Suppose you have the following equation from one of your lab experiments:\n",
        "\n",
        "$$f=\\frac{c}{2}\\sqrt{\\frac{n_x^2}{L_x^2}+\\frac{n_y^2}{L_y^2}+\\frac{n_z^2}{L_z^2}}$$\n",
        "\n",
        "where $f$ is the resonant frequency of sound waves in a box of sides $L_x$, $L_y$ and $L_z$ in length and the $n_x$ etc. are integers. $L_x = 10.2\\pm0.2m$, $L_y = 5.2\\pm0.3m$ and $L_z = 20.0\\pm0.1 m$, while $c = 331.3 + T * 0.606 \\,m\\,s^{-1}$ is the temperature-dependent speed of sound, and the temperature $T$ is $23 \\pm 1^\\circ C$.\n",
        "Calculate $f$ and the error in $f$ for the following values of $(nx,ny,nz)= (1,1,1), (1,1,2)$ and $(2,1,1)$.\n"
      ]
    },
    {
      "cell_type": "code",
      "execution_count": 35,
      "metadata": {
        "colab": {
          "base_uri": "https://localhost:8080/"
        },
        "id": "1Gz08BvQBX9r",
        "outputId": "7c26bc57-648b-4051-9739-41c24882ed9c"
      },
      "outputs": [
        {
          "output_type": "stream",
          "name": "stdout",
          "text": [
            "For values [1, 1, 1] for (nx,ny,nz) you get a values of f as 38.24745337649154 withan error of 1.6700605379580133\n",
            "For values [1, 1, 2] for (nx,ny,nz) you get a values of f as 41.06516265028539 withan error of 1.5562781935426817\n",
            "For values [2, 1, 1] for (nx,ny,nz) you get a values of f as 48.18791630742113 withan error of 1.4018271041233974\n"
          ]
        }
      ],
      "source": [
        "lx = uc.ufloat(10.2, 0.2)\n",
        "ly = uc.ufloat(5.2, 0.3)\n",
        "lz = uc.ufloat(20.0, 0.1)\n",
        "\n",
        "T = uc.ufloat(23,1)\n",
        "\n",
        "c = 331.3 + T*0.606\n",
        "\n",
        "def f(n):\n",
        "  nx, ny, nz = n\n",
        "\n",
        "  return (c/2)*(um.sqrt((nx**2/lx**2)+(ny**2/ly**2)+(nz**2/lz**2)))\n",
        "values = [[1,1,1], [1,1,2], [2,1,1]]\n",
        "\n",
        "print(f'For values {values[0]} for (nx,ny,nz) you get a values of f as {f(values[0]).nominal_value}Hz withan error of {f(values[0]).std_dev}Hz')\n",
        "print(f'For values {values[1]} for (nx,ny,nz) you get a values of f as {f(values[1]).nominal_value}Hz withan error of {f(values[1]).std_dev}Hz')\n",
        "print(f'For values {values[2]} for (nx,ny,nz) you get a values of f as {f(values[2]).nominal_value}Hz withan error of {f(values[2]).std_dev}Hz')"
      ]
    },
    {
      "cell_type": "markdown",
      "metadata": {
        "id": "xwrxl9IkBX9s"
      },
      "source": [
        "## Exercise 7\n",
        "[4] The reflection coefficient $R_\\parallel$ for parallel plane-polarised light reflected from a surface is given by the equation:\n",
        "\n",
        "$$ R_\\parallel = \\frac{\\tan^2(\\theta_i - \\theta_t)}{\\tan^2(\\theta_i + \\theta_t)} $$\n",
        "\n",
        "Calculate the error in $R_\\parallel$ given measurements $\\theta_i = (78 \\pm 1)^\\circ$ and $\\theta_t = (40 \\pm 1)^\\circ$."
      ]
    },
    {
      "cell_type": "code",
      "execution_count": 36,
      "metadata": {
        "colab": {
          "base_uri": "https://localhost:8080/"
        },
        "id": "tYi-4Z4vBX9s",
        "outputId": "362aa653-5f64-4004-9123-d4493f55356e"
      },
      "outputs": [
        {
          "output_type": "stream",
          "name": "stdout",
          "text": [
            "The error in reflectino coefficient is 0.003572137026589645 with an error of 0.06506774439998199\n"
          ]
        }
      ],
      "source": [
        "thetai = uc.ufloat(78, 1)\n",
        "thetaT = uc.ufloat(40, 1)\n",
        "\n",
        "rP = (um.tan(thetai - thetaT)**2)/(um.tan(thetai + thetaT)**2)\n",
        "\n",
        "print(f'The error in reflection coefficient is {rP.nominal_value} with an error of {rP.std_dev}')"
      ]
    },
    {
      "cell_type": "markdown",
      "metadata": {
        "id": "qjm1TTd5BX9t"
      },
      "source": [
        "## Exercise 8\n",
        "[4] Calculate and print to the screen the fractional uncertainty, as a percentage to one\n",
        "significant figure, of the fluid flow discharge coefficient $C_d$ from the equation\n",
        "\n",
        "$$\n",
        "C_d = \\frac{\\dot{m}\\sqrt{1-\\left(\\frac{d}{D}\\right)^4}}{Kd^2F\\sqrt{\\rho\\Delta P}}\n",
        "$$\n",
        "\n",
        "where\n",
        "\n",
        "\\begin{align*}\n",
        "    C_d &= \\text{discharge coefficient}&& \\text{(no units)} \\\\\n",
        "    \\dot{m} &= \\text{mass flow rate}&& = 0.13 \\pm 0.01kg\\,s^{-1} \\\\\n",
        "    d &= \\text{orifice diameter}&& = 11\\pm 1 mm \\\\\n",
        "    D &= \\text{pipe diameter}&& = 71 \\pm 1 mm \\\\\n",
        "    \\rho &= \\text{fluid density}&& =1.01\\pm0.01g\\,cm^{-3} \\\\\n",
        "    \\Delta P &= \\text{differential pressure}&& =156 \\pm 7 Pa \\\\\n",
        "    K &= \\text{a constant parameter}&& =\\text{constant (no units)} \\\\\n",
        "    F &= \\text{thermal expansion factor}&& =\\text{constant (no units)}\n",
        "\\end{align*}\n"
      ]
    },
    {
      "cell_type": "code",
      "execution_count": 38,
      "metadata": {
        "colab": {
          "base_uri": "https://localhost:8080/"
        },
        "id": "zqSzzH8OBX9u",
        "outputId": "b08e891a-4487-4bac-8e71-f108842218c1"
      },
      "outputs": [
        {
          "output_type": "stream",
          "name": "stdout",
          "text": [
            "The fractional uncertainty of the discharge coefficient is 19.9%\n"
          ]
        }
      ],
      "source": [
        "m = uc.ufloat(0.13, 0.01) #kg s-1\n",
        "d_mm = uc.ufloat(11, 1) #mm\n",
        "D_mm = uc.ufloat(71, 1) #mm\n",
        "rho_gcm = uc.ufloat(1.01, 0.01) #g cm-3\n",
        "dP = uc.ufloat(156, 7) #Pa\n",
        "K = 20\n",
        "F = 1e-6\n",
        "\n",
        "d = d_mm/1000\n",
        "D = D_mm/1000\n",
        "rho = rho_gcm/1000\n",
        "\n",
        "cd = (m*um.sqrt(1-((d/D)**4)))/(K*d**2*F*um.sqrt(rho*dP))\n",
        "\n",
        "print(f'The fractional uncertainty of the discharge coefficient is {cd.std_dev/cd.nominal_value*100:.1f}%')"
      ]
    },
    {
      "cell_type": "markdown",
      "metadata": {
        "id": "GsnG0cXLBX9u"
      },
      "source": [
        "## Exercise 9: Optional problem (not marked)\n",
        "If you have time and want to try something interesting, do the following problem by plotting in 2D:\n",
        " - Draw an equilateral triangle with vertices and coordinates: vertex 1: $(p_1,q_1)$; vertex 2: $(p_2, q_2)$; vertex 3: $(p_3, q_3)$.\n",
        " - Place a dot at an arbitrary point $P = (x_0, y_0)$ within this triangle.\n",
        " - Find the next point by selecting randomly an integer $n = 1 , 2, $  or $3$ :\n",
        "    1. If 1 , place a dot halfway between P and vertex 1.\n",
        "    2. If 2 , place a dot halfway between P and vertex 2.\n",
        "    3. If 3 , place a dot halfway between P and vertex 3.\n",
        " - Repeat the last two steps using the last dot as the new P.\n",
        "\n",
        "Mathematically, the coordinates of successive points are given by the formulae\n",
        "\n",
        "$$(x_{i+1},y_{i+1})=0.5[(x_i,y_i)+(p_n,q_n)]$$\n",
        "\n",
        "and\n",
        "\n",
        "$$n=int(1+3r_i),$$\n",
        "\n",
        "where $r_i$ is a random number between 0 and 1 and where the $int()$ function outputs the closest integer smaller than or equal to the argument.\n",
        "\n",
        "Try extending this to four vertices."
      ]
    },
    {
      "cell_type": "code",
      "execution_count": null,
      "metadata": {
        "id": "lAy74vMyBX9u"
      },
      "outputs": [],
      "source": []
    }
  ],
  "metadata": {
    "kernelspec": {
      "display_name": "Python 3",
      "language": "python",
      "name": "python3"
    },
    "language_info": {
      "codemirror_mode": {
        "name": "ipython",
        "version": 3
      },
      "file_extension": ".py",
      "mimetype": "text/x-python",
      "name": "python",
      "nbconvert_exporter": "python",
      "pygments_lexer": "ipython3",
      "version": "3.7.10"
    },
    "colab": {
      "provenance": []
    }
  },
  "nbformat": 4,
  "nbformat_minor": 0
}